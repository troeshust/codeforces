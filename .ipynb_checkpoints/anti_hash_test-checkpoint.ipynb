{
 "cells": [
  {
   "cell_type": "markdown",
   "id": "34589da2-628c-4bdc-8a83-81bf2f0849fb",
   "metadata": {},
   "source": [
    "# Anti-hash test for python dict"
   ]
  },
  {
   "cell_type": "markdown",
   "id": "30d0f049-7494-46cd-85f8-c1c5af3acf17",
   "metadata": {},
   "source": [
    "## Implementation"
   ]
  },
  {
   "cell_type": "code",
   "execution_count": 1,
   "id": "877223a4-c28f-45ce-9176-00fad78a9048",
   "metadata": {},
   "outputs": [],
   "source": [
    "import random\n",
    "import time\n",
    "import functools"
   ]
  },
  {
   "cell_type": "code",
   "execution_count": 2,
   "id": "b497ccb2-e9a9-40af-a022-7d2441141dd3",
   "metadata": {},
   "outputs": [],
   "source": [
    "MIN_KEY = 0\n",
    "MAX_KEY = int(1e9)\n",
    "NUM_KEYS = int(1e5)"
   ]
  },
  {
   "cell_type": "code",
   "execution_count": 3,
   "id": "4a4e9fd4-a5bc-4b8d-ae0f-cf28274db3fe",
   "metadata": {},
   "outputs": [],
   "source": [
    "def print_runtime(func):\n",
    "    @functools.wraps(func)\n",
    "    def wrapper(*args, **kwargs):\n",
    "        start_time = time.time()\n",
    "        result = func(*args, **kwargs)\n",
    "        end_time = time.time()\n",
    "        elapsed_time = end_time - start_time\n",
    "        print(f\"Elapsed time for {func.__name__}: {elapsed_time:.6f} seconds\")\n",
    "        return result\n",
    "    return wrapper\n",
    "\n",
    "@print_runtime\n",
    "def form_dict(keys):\n",
    "    d = {}\n",
    "    random_value = 42\n",
    "    for k in keys:\n",
    "        if k in d:\n",
    "            d[k].append(42)\n",
    "        else:\n",
    "            d[k] = [42]"
   ]
  },
  {
   "cell_type": "code",
   "execution_count": 4,
   "id": "296b66b0-4074-4b99-8d2f-d4e5860b5a84",
   "metadata": {},
   "outputs": [],
   "source": [
    "def make_anti_hash_test(num_keys=NUM_KEYS):\n",
    "    mask = (1 << 18) - 1\n",
    "    prefill = (1 << 15) + 1\n",
    "    x = 1\n",
    "    keys = [mask + 1]\n",
    "    \n",
    "    for i in range(1, prefill):\n",
    "        keys.append(x)\n",
    "        x = x * 5 + 1\n",
    "        x &= mask\n",
    "\n",
    "    for i in range(prefill, num_keys):\n",
    "        keys.append(0)\n",
    "\n",
    "    return keys"
   ]
  },
  {
   "cell_type": "code",
   "execution_count": 5,
   "id": "77919305-eded-4c16-bb5c-88faa9e68363",
   "metadata": {},
   "outputs": [],
   "source": [
    "random_keys = [random.randint(MIN_KEY, MAX_KEY) for _ in range(NUM_KEYS)]\n",
    "anti_hash_keys = make_anti_hash_test()"
   ]
  },
  {
   "cell_type": "code",
   "execution_count": 6,
   "id": "39edd389-16d0-41ae-a5e8-e0a502fa0222",
   "metadata": {},
   "outputs": [
    {
     "name": "stdout",
     "output_type": "stream",
     "text": [
      "Elapsed time for form_dict: 0.087510 seconds\n"
     ]
    }
   ],
   "source": [
    "form_dict(random_keys)"
   ]
  },
  {
   "cell_type": "code",
   "execution_count": 7,
   "id": "dfa71286-4905-47fd-b94e-cfc9e0e48f0d",
   "metadata": {},
   "outputs": [
    {
     "name": "stdout",
     "output_type": "stream",
     "text": [
      "Elapsed time for form_dict: 15.306841 seconds\n"
     ]
    }
   ],
   "source": [
    "form_dict(anti_hash_keys)"
   ]
  },
  {
   "cell_type": "markdown",
   "id": "04e3c89e-4180-4b4d-beb8-e4626eddbdc0",
   "metadata": {},
   "source": [
    "**\\> 15 secs for creating dict with 1e5 elements**"
   ]
  },
  {
   "cell_type": "markdown",
   "id": "bdf77f66-93df-43c1-b1f1-ccc6f0bd6cb4",
   "metadata": {},
   "source": [
    "## Most common test looks like"
   ]
  },
  {
   "cell_type": "code",
   "execution_count": 9,
   "id": "7470c51d-f95b-4cd9-ad90-2979fac95847",
   "metadata": {},
   "outputs": [
    {
     "name": "stdout",
     "output_type": "stream",
     "text": [
      "262144, 1, 6, 31, 156, 781, 3906, 19531, 97656, 226137, 82110, 148407, 217748, 40165, 200826, 217699, 39920, 199601, 211574, 9295\n"
     ]
    }
   ],
   "source": [
    "print(', '.join([str(i) for i in anti_hash_keys[:20]]))"
   ]
  },
  {
   "cell_type": "markdown",
   "id": "f83fab5d-5ec7-4238-81d2-969b95f0e8cb",
   "metadata": {},
   "source": [
    "## How to protect\n",
    "\n",
    "```python\n",
    "import random\n",
    "RANDOM = random.getrandbits(32)\n",
    "...\n",
    "    key ^= RANDOM\n",
    "    d[key] = ...\n",
    "```"
   ]
  }
 ],
 "metadata": {
  "kernelspec": {
   "display_name": "Python 3 (ipykernel)",
   "language": "python",
   "name": "python3"
  },
  "language_info": {
   "codemirror_mode": {
    "name": "ipython",
    "version": 3
   },
   "file_extension": ".py",
   "mimetype": "text/x-python",
   "name": "python",
   "nbconvert_exporter": "python",
   "pygments_lexer": "ipython3",
   "version": "3.12.3"
  }
 },
 "nbformat": 4,
 "nbformat_minor": 5
}
